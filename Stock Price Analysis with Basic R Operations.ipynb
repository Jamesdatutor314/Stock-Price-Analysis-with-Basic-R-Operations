{
 "cells": [
  {
   "cell_type": "markdown",
   "id": "8ba35e43-0e8f-44ee-a9d0-6fcfb790058a",
   "metadata": {},
   "source": [
    "# Stock Price Analysis with Basic R Operations"
   ]
  },
  {
   "cell_type": "markdown",
   "id": "13d2a8fa-2968-4bd3-bbb9-196fc0ce9ca6",
   "metadata": {},
   "source": [
    "## 1. Calculate 2 to the power of 5"
   ]
  },
  {
   "cell_type": "markdown",
   "id": "6328c645-8c92-413f-9ce5-2545ce195aa4",
   "metadata": {},
   "source": [
    "### **Question**: What is two to the power of five?"
   ]
  },
  {
   "cell_type": "code",
   "execution_count": 11,
   "id": "b1aca84b-9d08-477a-bd2f-dc45a773c797",
   "metadata": {},
   "outputs": [
    {
     "data": {
      "text/html": [
       "'Two to the power of 5 is 32'"
      ],
      "text/latex": [
       "'Two to the power of 5 is 32'"
      ],
      "text/markdown": [
       "'Two to the power of 5 is 32'"
      ],
      "text/plain": [
       "[1] \"Two to the power of 5 is 32\""
      ]
     },
     "metadata": {},
     "output_type": "display_data"
    }
   ],
   "source": [
    "result <- 2^5\n",
    "paste('Two to the power of 5 is',result)"
   ]
  },
  {
   "cell_type": "markdown",
   "id": "9b3558b3-775b-4e5b-8e0c-76d750a15620",
   "metadata": {},
   "source": [
    "## 2. Create a Vector of Stock Prices"
   ]
  },
  {
   "cell_type": "markdown",
   "id": "644534e8-4a67-4cf6-a29b-064708b8fce3",
   "metadata": {},
   "source": [
    "### **Question**: Create a vector called stock.prices with the following data points: 23, 27, 23, 21, 34."
   ]
  },
  {
   "cell_type": "code",
   "execution_count": 13,
   "id": "d6be86d9-70ee-49cc-8524-bb24e632eb08",
   "metadata": {},
   "outputs": [
    {
     "name": "stdout",
     "output_type": "stream",
     "text": [
      "[1] 23 27 23 21 34\n"
     ]
    }
   ],
   "source": [
    "stock.price <- c(23,27,23,21,34)\n",
    "print(stock.price)"
   ]
  },
  {
   "cell_type": "markdown",
   "id": "f180f605-6cf7-40cc-bd26-27e04b2a4e9f",
   "metadata": {},
   "source": [
    "## 3. Assign Day Names to Stock Prices"
   ]
  },
  {
   "cell_type": "markdown",
   "id": "e7008fd0-004f-463b-a8f7-32cff1c427ca",
   "metadata": {},
   "source": [
    "### **Question**: Assign names to the price data points relating to the days of the week, starting with Mon, Tue, Wed, etc."
   ]
  },
  {
   "cell_type": "code",
   "execution_count": 14,
   "id": "34e1f432-f0f4-45bb-adf0-fcd69b25171d",
   "metadata": {},
   "outputs": [
    {
     "name": "stdout",
     "output_type": "stream",
     "text": [
      "Mon Tue Wed Thr Fri \n",
      " 23  27  23  21  34 \n"
     ]
    }
   ],
   "source": [
    "week.days <- c(\"Mon\",\"Tue\",\"Wed\",\"Thr\",\"Fri\")\n",
    "names(stock.price) <- week.days\n",
    "print(stock.price)"
   ]
  },
  {
   "cell_type": "markdown",
   "id": "aa6cfbc6-19a2-4d1a-8846-60816941d4bc",
   "metadata": {},
   "source": [
    "## 4. Calculate the Average Stock Price"
   ]
  },
  {
   "cell_type": "markdown",
   "id": "34c4c313-8458-418e-988f-f0206e351776",
   "metadata": {},
   "source": [
    "### **Question**: What was the average (mean) stock price for the week?"
   ]
  },
  {
   "cell_type": "code",
   "execution_count": 22,
   "id": "b2686443-2d6a-4026-a217-0dbd38ef4598",
   "metadata": {},
   "outputs": [
    {
     "name": "stdout",
     "output_type": "stream",
     "text": [
      "[1] 25.6\n"
     ]
    }
   ],
   "source": [
    "average <- mean(stock.price)\n",
    "print(average)"
   ]
  },
  {
   "cell_type": "markdown",
   "id": "c6e2ab5f-343e-405b-9db6-b86465a50670",
   "metadata": {},
   "source": [
    "## 5. Create a Logical Vector for Prices Over $23"
   ]
  },
  {
   "cell_type": "markdown",
   "id": "042e96b4-a70f-413b-89ea-8958e8cc742f",
   "metadata": {},
   "source": [
    "### **Question**: Create a vector called over.23 consisting of logicals that correspond to the days where the stock price was more than $23."
   ]
  },
  {
   "cell_type": "code",
   "execution_count": 16,
   "id": "a143eea0-fb6c-422b-8126-4800fe78d307",
   "metadata": {},
   "outputs": [
    {
     "name": "stdout",
     "output_type": "stream",
     "text": [
      "  Mon   Tue   Wed   Thr   Fri \n",
      "FALSE  TRUE FALSE FALSE  TRUE \n"
     ]
    }
   ],
   "source": [
    "over.23 <- stock.price > 23\n",
    "print(over.23)"
   ]
  },
  {
   "cell_type": "markdown",
   "id": "2bc6ea82-fc45-43aa-92c6-9baa3c62853f",
   "metadata": {},
   "source": [
    "## 6. Filter Stock Prices Greater Than $23"
   ]
  },
  {
   "cell_type": "markdown",
   "id": "644beced-09d0-4afc-b255-8f19de4f7027",
   "metadata": {},
   "source": [
    "### **Question**: Use the over.23 vector to filter out the stock.prices vector and only return the day and prices where the price was over $23."
   ]
  },
  {
   "cell_type": "code",
   "execution_count": 17,
   "id": "30b83652-39f9-48fe-86b4-b42c5b641a27",
   "metadata": {},
   "outputs": [
    {
     "name": "stdout",
     "output_type": "stream",
     "text": [
      "Tue Fri \n",
      " 27  34 \n"
     ]
    }
   ],
   "source": [
    "print(stock.price[over.23])"
   ]
  },
  {
   "cell_type": "markdown",
   "id": "b3b48921-52da-43c5-a8b5-dd0cfe2c552a",
   "metadata": {},
   "source": [
    "## 7. Find the Day with the Highest Stock Price"
   ]
  },
  {
   "cell_type": "markdown",
   "id": "ad6a0245-b684-4bb3-b4a9-bf990ddca4c1",
   "metadata": {},
   "source": [
    "### **Question**: Find the day the price was the highest."
   ]
  },
  {
   "cell_type": "code",
   "execution_count": 19,
   "id": "07672b73-a923-432a-9295-955cb9cf5175",
   "metadata": {},
   "outputs": [
    {
     "name": "stdout",
     "output_type": "stream",
     "text": [
      "Fri \n",
      " 34 \n"
     ]
    }
   ],
   "source": [
    "print(stock.price[stock.price == max(stock.price)] )"
   ]
  },
  {
   "cell_type": "markdown",
   "id": "c76c9e91-bbd2-4d2a-a971-b57b63c7a72c",
   "metadata": {},
   "source": [
    "## 8. Calculate the Total Weekly Stock Price"
   ]
  },
  {
   "cell_type": "markdown",
   "id": "7d1082ba-1cfb-4ddc-805c-f16418bb0082",
   "metadata": {},
   "source": [
    "### **Question**: What is the total stock price for the week?"
   ]
  },
  {
   "cell_type": "code",
   "execution_count": 21,
   "id": "a798eaa1-39ec-4f67-92e0-795ffcbf82f3",
   "metadata": {},
   "outputs": [
    {
     "data": {
      "text/html": [
       "'The total stock price for the week is 128'"
      ],
      "text/latex": [
       "'The total stock price for the week is 128'"
      ],
      "text/markdown": [
       "'The total stock price for the week is 128'"
      ],
      "text/plain": [
       "[1] \"The total stock price for the week is 128\""
      ]
     },
     "metadata": {},
     "output_type": "display_data"
    }
   ],
   "source": [
    "total <- sum(stock.price)\n",
    "paste(\"The total stock price for the week is\",total)"
   ]
  },
  {
   "cell_type": "markdown",
   "id": "0f7f2ad7-9072-4815-aed7-2623a46beef1",
   "metadata": {},
   "source": [
    "## 9. Identify Days with Stock Prices Below Average"
   ]
  },
  {
   "cell_type": "markdown",
   "id": "09c91372-0d3b-4385-a017-55a3326231cf",
   "metadata": {},
   "source": [
    "### **Question**: Which days had stock prices below the weekly average?"
   ]
  },
  {
   "cell_type": "code",
   "execution_count": 28,
   "id": "1dc109f5-c1f4-42d7-aed4-2bd3b6b7ac2c",
   "metadata": {},
   "outputs": [
    {
     "data": {
      "text/html": [
       "<style>\n",
       ".list-inline {list-style: none; margin:0; padding: 0}\n",
       ".list-inline>li {display: inline-block}\n",
       ".list-inline>li:not(:last-child)::after {content: \"\\00b7\"; padding: 0 .5ex}\n",
       "</style>\n",
       "<ol class=list-inline><li>'Mon'</li><li>'Wed'</li><li>'Thr'</li></ol>\n"
      ],
      "text/latex": [
       "\\begin{enumerate*}\n",
       "\\item 'Mon'\n",
       "\\item 'Wed'\n",
       "\\item 'Thr'\n",
       "\\end{enumerate*}\n"
      ],
      "text/markdown": [
       "1. 'Mon'\n",
       "2. 'Wed'\n",
       "3. 'Thr'\n",
       "\n",
       "\n"
      ],
      "text/plain": [
       "[1] \"Mon\" \"Wed\" \"Thr\""
      ]
     },
     "metadata": {},
     "output_type": "display_data"
    }
   ],
   "source": [
    "below.average <- stock.price[stock.price < average]\n",
    "names(below.average)"
   ]
  },
  {
   "cell_type": "markdown",
   "id": "15bb57b0-6ddc-4fb0-8835-f2853ff5ad13",
   "metadata": {},
   "source": [
    "## 10. Visualize the Stock Prices"
   ]
  },
  {
   "cell_type": "markdown",
   "id": "18272aa3-7771-4631-a7da-445097db8ec9",
   "metadata": {},
   "source": [
    "### **Question**: Create a bar plot to visualize stock prices across the days of the week."
   ]
  },
  {
   "cell_type": "code",
   "execution_count": 31,
   "id": "dc828788-1eb9-4e15-8e4c-de61d75ef61b",
   "metadata": {},
   "outputs": [
    {
     "name": "stdout",
     "output_type": "stream",
     "text": [
      "\n",
      "The downloaded binary packages are in\n",
      "\t/var/folders/17/y6yqqy7n54j29b_bxf1w8h880000gn/T//RtmpFM8dWQ/downloaded_packages\n"
     ]
    }
   ],
   "source": [
    "install.packages('ggplot2')\n",
    "library(ggplot2)"
   ]
  },
  {
   "cell_type": "code",
   "execution_count": 52,
   "id": "92faa477-b674-4285-83dd-09ffaa8f2434",
   "metadata": {},
   "outputs": [
    {
     "data": {
      "image/png": "[encoded data removed]",
      "text/plain": [
       "plot without title"
      ]
     },
     "metadata": {
      "image/png": {
       "height": 420,
       "width": 420
      }
     },
     "output_type": "display_data"
    }
   ],
   "source": [
    "# create dataframe\n",
    "\n",
    "df <- data.frame( days = names(stock.price), price = stock.price)\n",
    "\n",
    "# Set the order of the days\n",
    "df$days <- factor(df$days, levels = c(\"Mon\", \"Tue\", \"Wed\", \"Thr\", \"Fri\"))\n",
    "\n",
    "barchart <- ggplot(df, aes(x=days,y=price,fill=days)) +\n",
    "    geom_bar(stat = \"identity\") +\n",
    "    theme_minimal() +\n",
    "    labs(x=\"Day Of Week\",y=\"Stock Price\", title=\"Stock Prices Over The Week\")\n",
    "\n",
    "barchart"
   ]
  }
 ],
 "metadata": {
  "kernelspec": {
   "display_name": "R",
   "language": "R",
   "name": "ir"
  },
  "language_info": {
   "codemirror_mode": "r",
   "file_extension": ".r",
   "mimetype": "text/x-r-source",
   "name": "R",
   "pygments_lexer": "r",
   "version": "4.3.2"
  }
 },
 "nbformat": 4,
 "nbformat_minor": 5
}
